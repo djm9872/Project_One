{
 "cells": [
  {
   "cell_type": "code",
   "execution_count": 1,
   "metadata": {},
   "outputs": [],
   "source": [
    "# Dependencies and Setup\n",
    "import matplotlib.pyplot as plt\n",
    "import pandas as pd\n",
    "import numpy as np\n",
    "import requests\n",
    "import time\n",
    "from datetime import date\n",
    "import json\n",
    "from pprint import pprint\n",
    "# Import API key\n",
    "from attom_key import api_key\n",
    "\n"
   ]
  },
  {
   "cell_type": "code",
   "execution_count": 2,
   "metadata": {},
   "outputs": [],
   "source": [
    "atx_zip_codes = [78731]\n",
    "\n",
    "\n",
    "\n",
    "headers = {\"apikey\": api_key, \n",
    "           \"accept\": \"application/json\"}\n",
    "\n",
    "params_zip = {\"propertytype\": \"SFR\",\n",
    "              \"page\": \"1\",\n",
    "              \n",
    "              \"pagesize\": \"500\",\n",
    "             }\n",
    "\n",
    "zip_id_url = \"https://search.onboard-apis.com/propertyapi/v1.0.0/property/address\"\n",
    "\n",
    "propid_list = []  \n",
    "\n",
    "for zipcodes in atx_zip_codes:\n",
    "    params_zip[\"postalcode\"] = zipcodes\n",
    "    \n",
    "    zip_results = requests.get(zip_id_url, headers=headers, params=params_zip).json()\n",
    "    \n",
    "    results = zip_results[\"property\"]\n",
    "\n",
    "    for i in range(len(results)):\n",
    "        propid_zip = {\"propid\": results[i][\"identifier\"][\"obPropId\"], \"zip\": results[i][\"address\"][\"postal1\"]}\n",
    "        propid_list.append(propid_zip)\n",
    "\n"
   ]
  },
  {
   "cell_type": "code",
   "execution_count": 3,
   "metadata": {},
   "outputs": [
    {
     "data": {
      "text/plain": [
       "propid    500\n",
       "zip       500\n",
       "dtype: int64"
      ]
     },
     "execution_count": 3,
     "metadata": {},
     "output_type": "execute_result"
    }
   ],
   "source": [
    "atx_zips_df = pd.DataFrame(propid_list)\n",
    "                                                      \n",
    "atx_zips_df.count()"
   ]
  },
  {
   "cell_type": "code",
   "execution_count": 4,
   "metadata": {},
   "outputs": [
    {
     "data": {
      "text/html": [
       "<div>\n",
       "<style scoped>\n",
       "    .dataframe tbody tr th:only-of-type {\n",
       "        vertical-align: middle;\n",
       "    }\n",
       "\n",
       "    .dataframe tbody tr th {\n",
       "        vertical-align: top;\n",
       "    }\n",
       "\n",
       "    .dataframe thead th {\n",
       "        text-align: right;\n",
       "    }\n",
       "</style>\n",
       "<table border=\"1\" class=\"dataframe\">\n",
       "  <thead>\n",
       "    <tr style=\"text-align: right;\">\n",
       "      <th></th>\n",
       "      <th>propid</th>\n",
       "      <th>zip</th>\n",
       "      <th>appraisal_2017</th>\n",
       "      <th>appraisal_2016</th>\n",
       "      <th>appraisal_2015</th>\n",
       "      <th>appraisal_2014</th>\n",
       "      <th>appraisal_2013</th>\n",
       "    </tr>\n",
       "  </thead>\n",
       "  <tbody>\n",
       "    <tr>\n",
       "      <th>0</th>\n",
       "      <td>16630028148453</td>\n",
       "      <td>78731</td>\n",
       "      <td></td>\n",
       "      <td></td>\n",
       "      <td></td>\n",
       "      <td></td>\n",
       "      <td></td>\n",
       "    </tr>\n",
       "    <tr>\n",
       "      <th>1</th>\n",
       "      <td>482595048453</td>\n",
       "      <td>78731</td>\n",
       "      <td></td>\n",
       "      <td></td>\n",
       "      <td></td>\n",
       "      <td></td>\n",
       "      <td></td>\n",
       "    </tr>\n",
       "    <tr>\n",
       "      <th>2</th>\n",
       "      <td>16630028348453</td>\n",
       "      <td>78731</td>\n",
       "      <td></td>\n",
       "      <td></td>\n",
       "      <td></td>\n",
       "      <td></td>\n",
       "      <td></td>\n",
       "    </tr>\n",
       "    <tr>\n",
       "      <th>3</th>\n",
       "      <td>16630027348453</td>\n",
       "      <td>78731</td>\n",
       "      <td></td>\n",
       "      <td></td>\n",
       "      <td></td>\n",
       "      <td></td>\n",
       "      <td></td>\n",
       "    </tr>\n",
       "    <tr>\n",
       "      <th>4</th>\n",
       "      <td>16630027448453</td>\n",
       "      <td>78731</td>\n",
       "      <td></td>\n",
       "      <td></td>\n",
       "      <td></td>\n",
       "      <td></td>\n",
       "      <td></td>\n",
       "    </tr>\n",
       "  </tbody>\n",
       "</table>\n",
       "</div>"
      ],
      "text/plain": [
       "           propid    zip appraisal_2017 appraisal_2016 appraisal_2015  \\\n",
       "0  16630028148453  78731                                                \n",
       "1    482595048453  78731                                                \n",
       "2  16630028348453  78731                                                \n",
       "3  16630027348453  78731                                                \n",
       "4  16630027448453  78731                                                \n",
       "\n",
       "  appraisal_2014 appraisal_2013  \n",
       "0                                \n",
       "1                                \n",
       "2                                \n",
       "3                                \n",
       "4                                "
      ]
     },
     "execution_count": 4,
     "metadata": {},
     "output_type": "execute_result"
    }
   ],
   "source": [
    "atx_zips_df[\"appraisal_2017\"] = \"\"\n",
    "atx_zips_df[\"appraisal_2016\"] = \"\"\n",
    "atx_zips_df[\"appraisal_2015\"] = \"\"\n",
    "atx_zips_df[\"appraisal_2014\"] = \"\"\n",
    "atx_zips_df[\"appraisal_2013\"] = \"\"\n",
    "\n",
    "atx_zips_df.head()"
   ]
  },
  {
   "cell_type": "code",
   "execution_count": 5,
   "metadata": {},
   "outputs": [
    {
     "name": "stdout",
     "output_type": "stream",
     "text": [
      "Missing field/result... skipping.\n",
      "Missing field/result... skipping.\n"
     ]
    }
   ],
   "source": [
    "headers = {\"apikey\": api_key, \n",
    "           \"accept\": \"application/json\"}\n",
    "\n",
    "params_ass = {}\n",
    "\n",
    "ass_url = \"https://search.onboard-apis.com/propertyapi/v1.0.0/assessmenthistory/detail\"\n",
    "\n",
    "# use iterrows to iterate through pandas dataframe\n",
    "for index, row in atx_zips_df.iterrows():\n",
    "\n",
    "    # get restaurant type from df\n",
    "    propid = row[\"propid\"]\n",
    "\n",
    "    # add keyword to params dict\n",
    "    params_ass[\"id\"] = propid\n",
    "\n",
    "    # assemble url and make API request\n",
    "    ass_results = requests.get(ass_url, headers=headers, params=params_ass).json()\n",
    "    \n",
    "    # extract results\n",
    "    results_ass = ass_results[\"property\"][0][\"assessmenthistory\"]\n",
    "    \n",
    "\n",
    "    \n",
    "    try:\n",
    "\n",
    "        atx_zips_df.loc[index,\"appraisal_2016\"] = results_ass[0][\"appraised\"][\"apprttlvalue\"]\n",
    "        \n",
    "        atx_zips_df.loc[index,\"appraisal_2017\"] = results_ass[1][\"appraised\"][\"apprttlvalue\"]\n",
    "        \n",
    "        atx_zips_df.loc[index,\"appraisal_2015\"] = results_ass[2][\"appraised\"][\"apprttlvalue\"]\n",
    "      \n",
    "        atx_zips_df.loc[index,\"appraisal_2014\"] = results_ass[3][\"appraised\"][\"apprttlvalue\"]\n",
    "      \n",
    "        atx_zips_df.loc[index,\"appraisal_2013\"] = results_ass[4][\"appraised\"][\"apprttlvalue\"]\n",
    "\n",
    "    \n",
    "    except (KeyError, IndexError):\n",
    "        print(\"Missing field/result... skipping.\")\n",
    "        \n"
   ]
  },
  {
   "cell_type": "code",
   "execution_count": 6,
   "metadata": {},
   "outputs": [
    {
     "data": {
      "text/plain": [
       "propid            500\n",
       "zip               500\n",
       "appraisal_2017    500\n",
       "appraisal_2016    500\n",
       "appraisal_2015    500\n",
       "appraisal_2014    500\n",
       "appraisal_2013    500\n",
       "dtype: int64"
      ]
     },
     "execution_count": 6,
     "metadata": {},
     "output_type": "execute_result"
    }
   ],
   "source": [
    "atx_zips_df.count()"
   ]
  },
  {
   "cell_type": "code",
   "execution_count": 7,
   "metadata": {},
   "outputs": [
    {
     "data": {
      "text/plain": [
       "propid            500\n",
       "zip               500\n",
       "appraisal_2017    500\n",
       "appraisal_2016    500\n",
       "appraisal_2015    500\n",
       "appraisal_2014    500\n",
       "appraisal_2013    500\n",
       "dtype: int64"
      ]
     },
     "execution_count": 7,
     "metadata": {},
     "output_type": "execute_result"
    }
   ],
   "source": [
    "ohtwo_df = atx_zips_df\n",
    "ohtwo_df.count()"
   ]
  },
  {
   "cell_type": "code",
   "execution_count": 8,
   "metadata": {},
   "outputs": [
    {
     "data": {
      "text/plain": [
       "propid            498\n",
       "zip               498\n",
       "appraisal_2017    498\n",
       "appraisal_2016    498\n",
       "appraisal_2015    498\n",
       "appraisal_2014    498\n",
       "appraisal_2013    498\n",
       "dtype: int64"
      ]
     },
     "execution_count": 8,
     "metadata": {},
     "output_type": "execute_result"
    }
   ],
   "source": [
    "ohtwo_df.replace(\"\", np.nan, inplace=True)\n",
    "ohtwo_df.dropna(axis=0, inplace=True)\n",
    "ohtwo_df.count()"
   ]
  },
  {
   "cell_type": "code",
   "execution_count": 9,
   "metadata": {},
   "outputs": [],
   "source": [
    "# atx_zips_df.replace(\"\", np.nan, inplace=True)\n",
    "# atx_zips_df.dropna(axis=0, inplace=True)\n",
    "# print(atx_zips_df.count())\n"
   ]
  },
  {
   "cell_type": "code",
   "execution_count": 10,
   "metadata": {},
   "outputs": [],
   "source": [
    "ohtwo_df.to_csv(\"assessment_history_by_zipcode_78731.csv\")"
   ]
  },
  {
   "cell_type": "code",
   "execution_count": null,
   "metadata": {},
   "outputs": [],
   "source": []
  }
 ],
 "metadata": {
  "kernelspec": {
   "display_name": "tuesday_pandas",
   "language": "python",
   "name": "tuesday_pandas"
  },
  "language_info": {
   "codemirror_mode": {
    "name": "ipython",
    "version": 3
   },
   "file_extension": ".py",
   "mimetype": "text/x-python",
   "name": "python",
   "nbconvert_exporter": "python",
   "pygments_lexer": "ipython3",
   "version": "3.6.6"
  }
 },
 "nbformat": 4,
 "nbformat_minor": 2
}
