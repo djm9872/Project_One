{
 "cells": [
  {
   "cell_type": "code",
   "execution_count": 1,
   "metadata": {},
   "outputs": [
    {
     "data": {
      "text/plain": [
       "propid            493\n",
       "zip               493\n",
       "appraisal_2017    493\n",
       "appraisal_2016    493\n",
       "appraisal_2015    493\n",
       "appraisal_2014    493\n",
       "appraisal_2013    493\n",
       "dtype: int64"
      ]
     },
     "execution_count": 1,
     "metadata": {},
     "output_type": "execute_result"
    }
   ],
   "source": [
    "%matplotlib inline\n",
    "# Dependencies and Setup\n",
    "import matplotlib.pyplot as plt\n",
    "import pandas as pd\n",
    "import numpy as np\n",
    "\n",
    "# File to Load (Remember to change these)\n",
    "atx_zip_78702 = \"assessment_by_zip_csv/assessment_history_by_zipcode_78702.csv\"\n",
    "atx_zip_78704 = \"assessment_by_zip_csv/assessment_history_by_zipcode_78704.csv\"\n",
    "atx_zip_78731 = \"assessment_by_zip_csv/assessment_history_by_zipcode_78731.csv\"\n",
    "atx_zip_78746 = \"assessment_by_zip_csv/assessment_history_by_zipcode_78746.csv\"\n",
    "atx_zip_78751 = \"assessment_by_zip_csv/assessment_history_by_zipcode_78751.csv\"\n",
    "\n",
    "# Read the City and Ride Data\n",
    "atx_78702_df = pd.read_csv(atx_zip_78702)\n",
    "atx_78704_df = pd.read_csv(atx_zip_78704)\n",
    "atx_78731_df = pd.read_csv(atx_zip_78731)\n",
    "atx_78746_df = pd.read_csv(atx_zip_78746)\n",
    "atx_78751_df = pd.read_csv(atx_zip_78751)\n",
    "\n",
    "# Combine the data into a single dataset\n",
    "# pyber_df = pd.merge(ride_data_df, city_data_df, how=\"outer\", on=\"city\")\n",
    "\n",
    "\n",
    "# Display the data table for preview\n",
    "atx_78702_df.count()\n"
   ]
  },
  {
   "cell_type": "code",
   "execution_count": 2,
   "metadata": {},
   "outputs": [
    {
     "data": {
      "text/plain": [
       "propid            497\n",
       "zip               497\n",
       "appraisal_2017    497\n",
       "appraisal_2016    497\n",
       "appraisal_2015    497\n",
       "appraisal_2014    497\n",
       "appraisal_2013    497\n",
       "dtype: int64"
      ]
     },
     "execution_count": 2,
     "metadata": {},
     "output_type": "execute_result"
    }
   ],
   "source": [
    "atx_78704_df.count()"
   ]
  },
  {
   "cell_type": "code",
   "execution_count": 8,
   "metadata": {},
   "outputs": [
    {
     "data": {
      "text/plain": [
       "propid            990\n",
       "zip               990\n",
       "appraisal_2017    990\n",
       "appraisal_2016    990\n",
       "appraisal_2015    990\n",
       "appraisal_2014    990\n",
       "appraisal_2013    990\n",
       "dtype: int64"
      ]
     },
     "execution_count": 8,
     "metadata": {},
     "output_type": "execute_result"
    }
   ],
   "source": [
    "com_atx_df = pd.merge(atx_78702_df, atx_78704_df, on=None, how=\"outer\")\n",
    "com_atx_df.count()"
   ]
  },
  {
   "cell_type": "code",
   "execution_count": 9,
   "metadata": {},
   "outputs": [
    {
     "data": {
      "text/plain": [
       "Unnamed: 0        498\n",
       "propid            498\n",
       "zip               498\n",
       "appraisal_2017    498\n",
       "appraisal_2016    498\n",
       "appraisal_2015    498\n",
       "appraisal_2014    498\n",
       "appraisal_2013    498\n",
       "dtype: int64"
      ]
     },
     "execution_count": 9,
     "metadata": {},
     "output_type": "execute_result"
    }
   ],
   "source": [
    "atx_78731_df.count()"
   ]
  },
  {
   "cell_type": "code",
   "execution_count": 13,
   "metadata": {},
   "outputs": [
    {
     "data": {
      "text/plain": [
       "propid            1488\n",
       "zip               1488\n",
       "appraisal_2017    1488\n",
       "appraisal_2016    1488\n",
       "appraisal_2015    1488\n",
       "appraisal_2014    1488\n",
       "appraisal_2013    1488\n",
       "Unnamed: 0         498\n",
       "dtype: int64"
      ]
     },
     "execution_count": 13,
     "metadata": {},
     "output_type": "execute_result"
    }
   ],
   "source": [
    "com1_atx_df = pd.merge(com_atx_df, atx_78731_df, on=None, how=\"outer\")\n",
    "com1_atx_df.count()"
   ]
  },
  {
   "cell_type": "code",
   "execution_count": 14,
   "metadata": {},
   "outputs": [
    {
     "data": {
      "text/plain": [
       "propid            496\n",
       "zip               496\n",
       "appraisal_2017    496\n",
       "appraisal_2016    496\n",
       "appraisal_2015    496\n",
       "appraisal_2014    496\n",
       "appraisal_2013    496\n",
       "dtype: int64"
      ]
     },
     "execution_count": 14,
     "metadata": {},
     "output_type": "execute_result"
    }
   ],
   "source": [
    "atx_78746_df.count()"
   ]
  },
  {
   "cell_type": "code",
   "execution_count": 19,
   "metadata": {},
   "outputs": [
    {
     "data": {
      "text/plain": [
       "propid            1984\n",
       "zip               1984\n",
       "appraisal_2017    1984\n",
       "appraisal_2016    1984\n",
       "appraisal_2015    1984\n",
       "appraisal_2014    1984\n",
       "appraisal_2013    1984\n",
       "Unnamed: 0         498\n",
       "dtype: int64"
      ]
     },
     "execution_count": 19,
     "metadata": {},
     "output_type": "execute_result"
    }
   ],
   "source": [
    "com2_atx_df = pd.merge(com1_atx_df, atx_78746_df, on=None, how=\"outer\")\n",
    "com2_atx_df.count()"
   ]
  },
  {
   "cell_type": "code",
   "execution_count": 16,
   "metadata": {},
   "outputs": [
    {
     "data": {
      "text/plain": [
       "propid            495\n",
       "zip               495\n",
       "appraisal_2017    495\n",
       "appraisal_2016    495\n",
       "appraisal_2015    495\n",
       "appraisal_2014    495\n",
       "appraisal_2013    495\n",
       "dtype: int64"
      ]
     },
     "execution_count": 16,
     "metadata": {},
     "output_type": "execute_result"
    }
   ],
   "source": [
    "atx_78751_df.count()"
   ]
  },
  {
   "cell_type": "code",
   "execution_count": 20,
   "metadata": {},
   "outputs": [
    {
     "name": "stdout",
     "output_type": "stream",
     "text": [
      "propid            2479\n",
      "zip               2479\n",
      "appraisal_2017    2479\n",
      "appraisal_2016    2479\n",
      "appraisal_2015    2479\n",
      "appraisal_2014    2479\n",
      "appraisal_2013    2479\n",
      "Unnamed: 0         498\n",
      "dtype: int64\n"
     ]
    },
    {
     "data": {
      "text/html": [
       "<div>\n",
       "<style scoped>\n",
       "    .dataframe tbody tr th:only-of-type {\n",
       "        vertical-align: middle;\n",
       "    }\n",
       "\n",
       "    .dataframe tbody tr th {\n",
       "        vertical-align: top;\n",
       "    }\n",
       "\n",
       "    .dataframe thead th {\n",
       "        text-align: right;\n",
       "    }\n",
       "</style>\n",
       "<table border=\"1\" class=\"dataframe\">\n",
       "  <thead>\n",
       "    <tr style=\"text-align: right;\">\n",
       "      <th></th>\n",
       "      <th>propid</th>\n",
       "      <th>zip</th>\n",
       "      <th>appraisal_2017</th>\n",
       "      <th>appraisal_2016</th>\n",
       "      <th>appraisal_2015</th>\n",
       "      <th>appraisal_2014</th>\n",
       "      <th>appraisal_2013</th>\n",
       "      <th>Unnamed: 0</th>\n",
       "    </tr>\n",
       "  </thead>\n",
       "  <tbody>\n",
       "    <tr>\n",
       "      <th>0</th>\n",
       "      <td>1.660220e+13</td>\n",
       "      <td>78702</td>\n",
       "      <td>473405</td>\n",
       "      <td>276086</td>\n",
       "      <td>345169</td>\n",
       "      <td>291544</td>\n",
       "      <td>209168</td>\n",
       "      <td>NaN</td>\n",
       "    </tr>\n",
       "    <tr>\n",
       "      <th>1</th>\n",
       "      <td>4.442100e+12</td>\n",
       "      <td>78702</td>\n",
       "      <td>865137</td>\n",
       "      <td>917886</td>\n",
       "      <td>643887</td>\n",
       "      <td>556703</td>\n",
       "      <td>110000</td>\n",
       "      <td>NaN</td>\n",
       "    </tr>\n",
       "    <tr>\n",
       "      <th>2</th>\n",
       "      <td>5.080470e+12</td>\n",
       "      <td>78702</td>\n",
       "      <td>1047246</td>\n",
       "      <td>1241888</td>\n",
       "      <td>1010125</td>\n",
       "      <td>832768</td>\n",
       "      <td>427969</td>\n",
       "      <td>NaN</td>\n",
       "    </tr>\n",
       "    <tr>\n",
       "      <th>3</th>\n",
       "      <td>1.441750e+13</td>\n",
       "      <td>78702</td>\n",
       "      <td>2061465</td>\n",
       "      <td>1549421</td>\n",
       "      <td>1073359</td>\n",
       "      <td>889790</td>\n",
       "      <td>1005585</td>\n",
       "      <td>NaN</td>\n",
       "    </tr>\n",
       "    <tr>\n",
       "      <th>4</th>\n",
       "      <td>2.929880e+12</td>\n",
       "      <td>78702</td>\n",
       "      <td>715305</td>\n",
       "      <td>583486</td>\n",
       "      <td>387576</td>\n",
       "      <td>388557</td>\n",
       "      <td>389373</td>\n",
       "      <td>NaN</td>\n",
       "    </tr>\n",
       "  </tbody>\n",
       "</table>\n",
       "</div>"
      ],
      "text/plain": [
       "         propid    zip  appraisal_2017  appraisal_2016  appraisal_2015  \\\n",
       "0  1.660220e+13  78702          473405          276086          345169   \n",
       "1  4.442100e+12  78702          865137          917886          643887   \n",
       "2  5.080470e+12  78702         1047246         1241888         1010125   \n",
       "3  1.441750e+13  78702         2061465         1549421         1073359   \n",
       "4  2.929880e+12  78702          715305          583486          387576   \n",
       "\n",
       "   appraisal_2014  appraisal_2013  Unnamed: 0  \n",
       "0          291544          209168         NaN  \n",
       "1          556703          110000         NaN  \n",
       "2          832768          427969         NaN  \n",
       "3          889790         1005585         NaN  \n",
       "4          388557          389373         NaN  "
      ]
     },
     "execution_count": 20,
     "metadata": {},
     "output_type": "execute_result"
    }
   ],
   "source": [
    "combined_atx_df = pd.merge(com2_atx_df, atx_78751_df, on=None, how=\"outer\")\n",
    "print(combined_atx_df.count())\n",
    "combined_atx_df.head()"
   ]
  },
  {
   "cell_type": "code",
   "execution_count": 22,
   "metadata": {},
   "outputs": [
    {
     "data": {
      "text/html": [
       "<div>\n",
       "<style scoped>\n",
       "    .dataframe tbody tr th:only-of-type {\n",
       "        vertical-align: middle;\n",
       "    }\n",
       "\n",
       "    .dataframe tbody tr th {\n",
       "        vertical-align: top;\n",
       "    }\n",
       "\n",
       "    .dataframe thead th {\n",
       "        text-align: right;\n",
       "    }\n",
       "</style>\n",
       "<table border=\"1\" class=\"dataframe\">\n",
       "  <thead>\n",
       "    <tr style=\"text-align: right;\">\n",
       "      <th></th>\n",
       "      <th>propid</th>\n",
       "      <th>zip</th>\n",
       "      <th>appraisal_2017</th>\n",
       "      <th>appraisal_2016</th>\n",
       "      <th>appraisal_2015</th>\n",
       "      <th>appraisal_2014</th>\n",
       "      <th>appraisal_2013</th>\n",
       "    </tr>\n",
       "  </thead>\n",
       "  <tbody>\n",
       "    <tr>\n",
       "      <th>0</th>\n",
       "      <td>1.660220e+13</td>\n",
       "      <td>78702</td>\n",
       "      <td>473405</td>\n",
       "      <td>276086</td>\n",
       "      <td>345169</td>\n",
       "      <td>291544</td>\n",
       "      <td>209168</td>\n",
       "    </tr>\n",
       "    <tr>\n",
       "      <th>1</th>\n",
       "      <td>4.442100e+12</td>\n",
       "      <td>78702</td>\n",
       "      <td>865137</td>\n",
       "      <td>917886</td>\n",
       "      <td>643887</td>\n",
       "      <td>556703</td>\n",
       "      <td>110000</td>\n",
       "    </tr>\n",
       "    <tr>\n",
       "      <th>2</th>\n",
       "      <td>5.080470e+12</td>\n",
       "      <td>78702</td>\n",
       "      <td>1047246</td>\n",
       "      <td>1241888</td>\n",
       "      <td>1010125</td>\n",
       "      <td>832768</td>\n",
       "      <td>427969</td>\n",
       "    </tr>\n",
       "    <tr>\n",
       "      <th>3</th>\n",
       "      <td>1.441750e+13</td>\n",
       "      <td>78702</td>\n",
       "      <td>2061465</td>\n",
       "      <td>1549421</td>\n",
       "      <td>1073359</td>\n",
       "      <td>889790</td>\n",
       "      <td>1005585</td>\n",
       "    </tr>\n",
       "    <tr>\n",
       "      <th>4</th>\n",
       "      <td>2.929880e+12</td>\n",
       "      <td>78702</td>\n",
       "      <td>715305</td>\n",
       "      <td>583486</td>\n",
       "      <td>387576</td>\n",
       "      <td>388557</td>\n",
       "      <td>389373</td>\n",
       "    </tr>\n",
       "  </tbody>\n",
       "</table>\n",
       "</div>"
      ],
      "text/plain": [
       "         propid    zip  appraisal_2017  appraisal_2016  appraisal_2015  \\\n",
       "0  1.660220e+13  78702          473405          276086          345169   \n",
       "1  4.442100e+12  78702          865137          917886          643887   \n",
       "2  5.080470e+12  78702         1047246         1241888         1010125   \n",
       "3  1.441750e+13  78702         2061465         1549421         1073359   \n",
       "4  2.929880e+12  78702          715305          583486          387576   \n",
       "\n",
       "   appraisal_2014  appraisal_2013  \n",
       "0          291544          209168  \n",
       "1          556703          110000  \n",
       "2          832768          427969  \n",
       "3          889790         1005585  \n",
       "4          388557          389373  "
      ]
     },
     "execution_count": 22,
     "metadata": {},
     "output_type": "execute_result"
    }
   ],
   "source": [
    "combined_atx_df.dropna(axis=1, inplace=True)\n",
    "combined_atx_df.head()"
   ]
  },
  {
   "cell_type": "code",
   "execution_count": 23,
   "metadata": {},
   "outputs": [],
   "source": [
    "combined_atx_df.to_csv(\"assessment_history_by_zipcode_combined.csv\")"
   ]
  },
  {
   "cell_type": "code",
   "execution_count": null,
   "metadata": {},
   "outputs": [],
   "source": []
  }
 ],
 "metadata": {
  "kernelspec": {
   "display_name": "tuesday_pandas",
   "language": "python",
   "name": "tuesday_pandas"
  },
  "language_info": {
   "codemirror_mode": {
    "name": "ipython",
    "version": 3
   },
   "file_extension": ".py",
   "mimetype": "text/x-python",
   "name": "python",
   "nbconvert_exporter": "python",
   "pygments_lexer": "ipython3",
   "version": "3.6.6"
  }
 },
 "nbformat": 4,
 "nbformat_minor": 2
}
